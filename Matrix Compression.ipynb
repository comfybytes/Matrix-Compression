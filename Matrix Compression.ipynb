{
 "cells": [
  {
   "cell_type": "code",
   "execution_count": 8,
   "id": "537c8645",
   "metadata": {},
   "outputs": [],
   "source": [
    "matrix = [[3, 0, 0, 0], [0, 0, 7, 0], [-2, 9, 0, 0], [11, 0, 0, -3]]"
   ]
  },
  {
   "cell_type": "markdown",
   "id": "900bb105",
   "metadata": {},
   "source": [
    "## Compressing\n",
    "takes a sparse matrix and compresses it into a state where the 0s are not explicity saved"
   ]
  },
  {
   "cell_type": "code",
   "execution_count": 2,
   "id": "2a0c9cef",
   "metadata": {},
   "outputs": [],
   "source": [
    "def compress_matrix(matrix):\n",
    "    compressed = {}\n",
    "    for i, j in enumerate(matrix):\n",
    "        for k, l in enumerate(j):\n",
    "            if l != 0:\n",
    "                if i in compressed:\n",
    "                    compressed[i][k] = l\n",
    "                else:\n",
    "                    compressed[i] = {k: l}\n",
    "    return compressed"
   ]
  },
  {
   "cell_type": "code",
   "execution_count": 3,
   "id": "acca595e",
   "metadata": {},
   "outputs": [
    {
     "data": {
      "text/plain": [
       "{0: {0: 3}, 1: {2: 7}, 2: {0: -2, 1: 9}, 3: {0: 11, 3: -3}}"
      ]
     },
     "execution_count": 3,
     "metadata": {},
     "output_type": "execute_result"
    }
   ],
   "source": [
    "compressed_matrix = compress_matrix(matrix)\n",
    "compressed_matrix"
   ]
  },
  {
   "cell_type": "markdown",
   "id": "ad9dd1df",
   "metadata": {},
   "source": [
    "### Accessing elements\n",
    "Accessing the non-zero cells works the same way with the compressed matrix"
   ]
  },
  {
   "cell_type": "code",
   "execution_count": 10,
   "id": "d938a120",
   "metadata": {},
   "outputs": [
    {
     "name": "stdout",
     "output_type": "stream",
     "text": [
      "9\n",
      "9\n"
     ]
    }
   ],
   "source": [
    "print(matrix[2][1])\n",
    "print(compressed_matrix[2][1])"
   ]
  },
  {
   "cell_type": "markdown",
   "id": "0d3ae987",
   "metadata": {},
   "source": [
    "## Decompressing\n",
    "returns a compressed matrix back to it's initial state"
   ]
  },
  {
   "cell_type": "code",
   "execution_count": 4,
   "id": "dbe00829",
   "metadata": {},
   "outputs": [],
   "source": [
    "def decompress_matrix(compressed):\n",
    "    matrix = [[0 for x in range(max(compressed[max(compressed)])+1)] for y in range(max(compressed) + 1)]\n",
    "    for i, j in compressed.items():\n",
    "        for k, m in j.items():\n",
    "            matrix[i][k] = m\n",
    "    return matrix"
   ]
  },
  {
   "cell_type": "code",
   "execution_count": 5,
   "id": "38fc9903",
   "metadata": {},
   "outputs": [
    {
     "data": {
      "text/plain": [
       "[[3, 0, 0, 0], [0, 0, 7, 0], [-2, 9, 0, 0], [11, 0, 0, -3]]"
      ]
     },
     "execution_count": 5,
     "metadata": {},
     "output_type": "execute_result"
    }
   ],
   "source": [
    "decompressed_matrix = decompress_matrix(compressed_matrix)\n",
    "decompressed_matrix"
   ]
  }
 ],
 "metadata": {
  "kernelspec": {
   "display_name": "Python 3 (ipykernel)",
   "language": "python",
   "name": "python3"
  },
  "language_info": {
   "codemirror_mode": {
    "name": "ipython",
    "version": 3
   },
   "file_extension": ".py",
   "mimetype": "text/x-python",
   "name": "python",
   "nbconvert_exporter": "python",
   "pygments_lexer": "ipython3",
   "version": "3.9.12"
  }
 },
 "nbformat": 4,
 "nbformat_minor": 5
}
